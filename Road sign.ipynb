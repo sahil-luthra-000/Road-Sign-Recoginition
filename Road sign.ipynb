{
 "cells": [
  {
   "cell_type": "markdown",
   "id": "65233352",
   "metadata": {},
   "source": [
    "# Import the Required Libraries\n"
   ]
  },
  {
   "cell_type": "code",
   "execution_count": 6,
   "id": "ef466b0a",
   "metadata": {},
   "outputs": [],
   "source": [
    "import numpy as np \n",
    "import pandas as pd \n",
    "import matplotlib.pyplot as plt\n",
    "import cv2 \n",
    "import tensorflow as tf\n",
    "from PIL import Image \n",
    "import os \n",
    "os.chdir(r'C:\\Users\\sahil\\Desktop\\Road sign recorginition\\dataset\\traffic sign')\n",
    "from sklearn.model_selection import train_test_split\n",
    "from keras.utils import to_categorical\n",
    "from keras.models import Sequential, load_model\n",
    "from keras.layers import Conv2D, MaxPool2D, Dense, Flatten, Dropout"
   ]
  },
  {
   "cell_type": "markdown",
   "id": "ec88a7d4",
   "metadata": {},
   "source": [
    "# Store data and labels\n"
   ]
  },
  {
   "cell_type": "code",
   "execution_count": 7,
   "id": "ab6132d6",
   "metadata": {},
   "outputs": [],
   "source": [
    "data = []\n",
    "labels = []\n",
    "# We have 43 Classes\n",
    "classes = 43\n",
    "cur_path = os.getcwd()"
   ]
  },
  {
   "cell_type": "code",
   "execution_count": 8,
   "id": "30d79de0",
   "metadata": {
    "scrolled": true
   },
   "outputs": [
    {
     "data": {
      "text/plain": [
       "'C:\\\\Users\\\\sahil\\\\Desktop\\\\Road sign recorginition\\\\dataset\\\\traffic sign'"
      ]
     },
     "execution_count": 8,
     "metadata": {},
     "output_type": "execute_result"
    }
   ],
   "source": [
    "cur_path"
   ]
  },
  {
   "cell_type": "markdown",
   "id": "76c96149",
   "metadata": {},
   "source": [
    "# Preprocess the images"
   ]
  },
  {
   "cell_type": "code",
   "execution_count": 9,
   "id": "339a7af6",
   "metadata": {},
   "outputs": [],
   "source": [
    "for i in range(classes):\n",
    "    path = os.path.join(cur_path,'train',str(i))\n",
    "    images = os.listdir(path)\n",
    "    for a in images:\n",
    "        try:\n",
    "            image = Image.open(path + '\\\\'+ a)\n",
    "            image = image.resize((30,30))\n",
    "            image = np.array(image)\n",
    "            data.append(image)\n",
    "            labels.append(i)\n",
    "        except Exception as e:\n",
    "            print(e)"
   ]
  },
  {
   "cell_type": "markdown",
   "id": "a8bd9dd7",
   "metadata": {},
   "source": [
    "# Converting list into numpy arrays"
   ]
  },
  {
   "cell_type": "code",
   "execution_count": 10,
   "id": "73066895",
   "metadata": {},
   "outputs": [],
   "source": [
    "data = np.array(data)\n",
    "labels = np.array(labels)"
   ]
  },
  {
   "cell_type": "code",
   "execution_count": 11,
   "id": "8e3a134a",
   "metadata": {},
   "outputs": [],
   "source": [
    "if not os.path.exists('./training'):\n",
    "    os.mkdir('./training')"
   ]
  },
  {
   "cell_type": "markdown",
   "id": "f2bce83c",
   "metadata": {},
   "source": [
    "# Save labels and data for Future Use\n"
   ]
  },
  {
   "cell_type": "code",
   "execution_count": 12,
   "id": "13d4dedf",
   "metadata": {},
   "outputs": [],
   "source": [
    "# os.mkdir('training')\n",
    "np.save('./training/data',data)\n",
    "np.save('./training/target',labels)"
   ]
  },
  {
   "cell_type": "markdown",
   "id": "d15d068d",
   "metadata": {},
   "source": [
    "# Load  the data and labels"
   ]
  },
  {
   "cell_type": "code",
   "execution_count": 13,
   "id": "4ee783db",
   "metadata": {},
   "outputs": [],
   "source": [
    "data=np.load('./training/data.npy')\n",
    "labels=np.load('./training/target.npy')"
   ]
  },
  {
   "cell_type": "code",
   "execution_count": 14,
   "id": "913fac29",
   "metadata": {},
   "outputs": [
    {
     "name": "stdout",
     "output_type": "stream",
     "text": [
      "(39209, 30, 30, 3) (39209,)\n"
     ]
    }
   ],
   "source": [
    "print(data.shape, labels.shape)"
   ]
  },
  {
   "cell_type": "code",
   "execution_count": 15,
   "id": "e05a5095",
   "metadata": {},
   "outputs": [],
   "source": [
    "X_train, X_test, y_train, y_test = train_test_split(data, labels, test_size=0.2, random_state=0)"
   ]
  },
  {
   "cell_type": "code",
   "execution_count": 16,
   "id": "25e2b91f",
   "metadata": {},
   "outputs": [
    {
     "name": "stdout",
     "output_type": "stream",
     "text": [
      "(31367, 30, 30, 3) (7842, 30, 30, 3) (31367,) (7842,)\n"
     ]
    }
   ],
   "source": [
    "print(X_train.shape, X_test.shape, y_train.shape, y_test.shape)"
   ]
  },
  {
   "cell_type": "code",
   "execution_count": 17,
   "id": "a30b6e5a",
   "metadata": {},
   "outputs": [],
   "source": [
    "y_train = to_categorical(y_train, 43)\n",
    "y_test = to_categorical(y_test, 43)"
   ]
  },
  {
   "cell_type": "markdown",
   "id": "1d99df8a",
   "metadata": {},
   "source": [
    "# Building of the model"
   ]
  },
  {
   "cell_type": "code",
   "execution_count": 18,
   "id": "e101c5c5",
   "metadata": {},
   "outputs": [],
   "source": [
    "model = Sequential()\n",
    "model.add(Conv2D(filters=32, kernel_size=(5,5), activation='relu', input_shape=X_train.shape[1:]))\n",
    "model.add(Conv2D(filters=32, kernel_size=(5,5), activation='relu'))\n",
    "model.add(MaxPool2D(pool_size=(2, 2)))\n",
    "model.add(Dropout(rate=0.25))\n",
    "model.add(Conv2D(filters=64, kernel_size=(3, 3), activation='relu'))\n",
    "model.add(Conv2D(filters=64, kernel_size=(3, 3), activation='relu'))\n",
    "model.add(MaxPool2D(pool_size=(2, 2)))\n",
    "model.add(Dropout(rate=0.25))\n",
    "model.add(Flatten())\n",
    "model.add(Dense(256, activation='relu'))\n",
    "model.add(Dropout(rate=0.5))\n",
    "# We have 43 classes that's why we have defined 43 in the dense\n",
    "model.add(Dense(43, activation='softmax'))"
   ]
  },
  {
   "cell_type": "code",
   "execution_count": 19,
   "id": "5e510ceb",
   "metadata": {},
   "outputs": [],
   "source": [
    "#Compilation of the model\n",
    "model.compile(loss='categorical_crossentropy', optimizer='adam', metrics=['accuracy'])"
   ]
  },
  {
   "cell_type": "code",
   "execution_count": 20,
   "id": "d9a81175",
   "metadata": {},
   "outputs": [
    {
     "name": "stdout",
     "output_type": "stream",
     "text": [
      "Epoch 1/20\n",
      "981/981 [==============================] - 194s 196ms/step - loss: 2.1612 - accuracy: 0.4663 - val_loss: 0.7376 - val_accuracy: 0.8240\n",
      "Epoch 2/20\n",
      "981/981 [==============================] - 199s 203ms/step - loss: 0.9523 - accuracy: 0.7157 - val_loss: 0.4279 - val_accuracy: 0.8880\n",
      "Epoch 3/20\n",
      "981/981 [==============================] - 220s 224ms/step - loss: 0.7383 - accuracy: 0.7794 - val_loss: 0.3485 - val_accuracy: 0.8998\n",
      "Epoch 4/20\n",
      "981/981 [==============================] - 222s 226ms/step - loss: 0.6185 - accuracy: 0.8142 - val_loss: 0.2800 - val_accuracy: 0.9249\n",
      "Epoch 5/20\n",
      "981/981 [==============================] - 229s 233ms/step - loss: 0.5354 - accuracy: 0.8393 - val_loss: 0.2485 - val_accuracy: 0.9327\n",
      "Epoch 6/20\n",
      "981/981 [==============================] - 203s 207ms/step - loss: 0.4634 - accuracy: 0.8599 - val_loss: 0.1900 - val_accuracy: 0.9444\n",
      "Epoch 7/20\n",
      "981/981 [==============================] - 753s 768ms/step - loss: 0.4257 - accuracy: 0.8717 - val_loss: 0.1576 - val_accuracy: 0.9561\n",
      "Epoch 8/20\n",
      "981/981 [==============================] - 145s 148ms/step - loss: 0.3777 - accuracy: 0.8873 - val_loss: 0.1809 - val_accuracy: 0.9470\n",
      "Epoch 9/20\n",
      "981/981 [==============================] - 93s 95ms/step - loss: 0.3153 - accuracy: 0.9057 - val_loss: 0.1186 - val_accuracy: 0.9644\n",
      "Epoch 10/20\n",
      "981/981 [==============================] - 101s 103ms/step - loss: 0.2862 - accuracy: 0.9166 - val_loss: 0.1016 - val_accuracy: 0.9726\n",
      "Epoch 11/20\n",
      "981/981 [==============================] - 93s 95ms/step - loss: 0.2600 - accuracy: 0.9245 - val_loss: 0.2063 - val_accuracy: 0.9468\n",
      "Epoch 12/20\n",
      "981/981 [==============================] - 92s 94ms/step - loss: 0.2731 - accuracy: 0.9234 - val_loss: 0.0789 - val_accuracy: 0.9768\n",
      "Epoch 13/20\n",
      "981/981 [==============================] - 94s 96ms/step - loss: 0.2503 - accuracy: 0.9290 - val_loss: 0.1093 - val_accuracy: 0.9703\n",
      "Epoch 14/20\n",
      "981/981 [==============================] - 96s 98ms/step - loss: 0.2485 - accuracy: 0.9317 - val_loss: 0.1070 - val_accuracy: 0.9695\n",
      "Epoch 15/20\n",
      "981/981 [==============================] - 94s 96ms/step - loss: 0.2320 - accuracy: 0.9355 - val_loss: 0.0780 - val_accuracy: 0.9770\n",
      "Epoch 16/20\n",
      "981/981 [==============================] - 93s 95ms/step - loss: 0.2261 - accuracy: 0.9377 - val_loss: 0.0858 - val_accuracy: 0.9793\n",
      "Epoch 17/20\n",
      "981/981 [==============================] - 92s 94ms/step - loss: 0.2390 - accuracy: 0.9350 - val_loss: 0.0795 - val_accuracy: 0.9801\n",
      "Epoch 18/20\n",
      "981/981 [==============================] - 92s 94ms/step - loss: 0.2443 - accuracy: 0.9347 - val_loss: 0.0693 - val_accuracy: 0.9819\n",
      "Epoch 19/20\n",
      "981/981 [==============================] - 92s 94ms/step - loss: 0.2403 - accuracy: 0.9367 - val_loss: 0.0700 - val_accuracy: 0.9827\n",
      "Epoch 20/20\n",
      "981/981 [==============================] - 96s 98ms/step - loss: 0.2131 - accuracy: 0.9437 - val_loss: 0.0925 - val_accuracy: 0.9749\n"
     ]
    }
   ],
   "source": [
    "epochs = 20\n",
    "history = model.fit(X_train, y_train, batch_size=32, epochs=epochs, validation_data=(X_test, y_test))"
   ]
  },
  {
   "cell_type": "code",
   "execution_count": 21,
   "id": "1aa14328",
   "metadata": {},
   "outputs": [
    {
     "data": {
      "image/png": "[encoded data removed]",
      "text/plain": [
       "<Figure size 640x480 with 1 Axes>"
      ]
     },
     "metadata": {},
     "output_type": "display_data"
    }
   ],
   "source": [
    "# accuracy \n",
    "plt.figure(0)\n",
    "plt.plot(history.history['accuracy'], label='training accuracy')\n",
    "plt.plot(history.history['val_accuracy'], label='val accuracy')\n",
    "plt.title('Accuracy')\n",
    "plt.xlabel('epochs')\n",
    "plt.ylabel('accuracy')\n",
    "plt.legend()\n",
    "plt.show()"
   ]
  },
  {
   "cell_type": "code",
   "execution_count": 22,
   "id": "376db956",
   "metadata": {},
   "outputs": [
    {
     "data": {
      "image/png": "[encoded data removed]",
      "text/plain": [
       "<Figure size 640x480 with 1 Axes>"
      ]
     },
     "metadata": {},
     "output_type": "display_data"
    }
   ],
   "source": [
    "# Loss\n",
    "plt.plot(history.history['loss'], label='training loss')\n",
    "plt.plot(history.history['val_loss'], label='val loss')\n",
    "plt.title('Loss')\n",
    "plt.xlabel('epochs')\n",
    "plt.ylabel('loss')\n",
    "plt.legend()\n",
    "plt.show()"
   ]
  },
  {
   "cell_type": "markdown",
   "id": "61717a26",
   "metadata": {},
   "source": [
    "# Testing the model"
   ]
  },
  {
   "cell_type": "code",
   "execution_count": 23,
   "id": "9f5348cb",
   "metadata": {},
   "outputs": [],
   "source": [
    "def testing(testcsv):\n",
    "    y_test = pd.read_csv(testcsv)\n",
    "    label = y_test[\"ClassId\"].values\n",
    "    imgs = y_test[\"Path\"].values\n",
    "    data=[]\n",
    "    for img in imgs:\n",
    "        image = Image.open(img)\n",
    "        image = image.resize((30,30))\n",
    "        data.append(np.array(image))\n",
    "    X_test=np.array(data)\n",
    "    return X_test,label"
   ]
  },
  {
   "cell_type": "code",
   "execution_count": 25,
   "id": "1526c849",
   "metadata": {
    "scrolled": true
   },
   "outputs": [],
   "source": [
    "X_test, label = testing('Test.csv')"
   ]
  },
  {
   "cell_type": "code",
   "execution_count": 26,
   "id": "d8fdde2a",
   "metadata": {},
   "outputs": [
    {
     "name": "stdout",
     "output_type": "stream",
     "text": [
      "395/395 [==============================] - 9s 23ms/step\n"
     ]
    },
    {
     "data": {
      "text/plain": [
       "array([16,  1, 38, ...,  1,  7, 10], dtype=int64)"
      ]
     },
     "execution_count": 26,
     "metadata": {},
     "output_type": "execute_result"
    }
   ],
   "source": [
    "Y_pred_probabilities = model.predict(X_test)\n",
    "Y_pred = Y_pred_probabilities.argmax(axis=-1)\n",
    "Y_pred"
   ]
  },
  {
   "cell_type": "markdown",
   "id": "1c0482e2",
   "metadata": {},
   "source": [
    "# Accuracy with the test data"
   ]
  },
  {
   "cell_type": "code",
   "execution_count": 27,
   "id": "7da379c4",
   "metadata": {},
   "outputs": [
    {
     "name": "stdout",
     "output_type": "stream",
     "text": [
      "0.9334125098970705\n"
     ]
    }
   ],
   "source": [
    "from sklearn.metrics import accuracy_score\n",
    "print(accuracy_score(label, Y_pred))"
   ]
  },
  {
   "cell_type": "markdown",
   "id": "78a0bbad",
   "metadata": {},
   "source": [
    "# Save the model"
   ]
  },
  {
   "cell_type": "code",
   "execution_count": 28,
   "id": "7a7231ff",
   "metadata": {},
   "outputs": [
    {
     "name": "stderr",
     "output_type": "stream",
     "text": [
      "C:\\Users\\sahil\\anaconda3\\Lib\\site-packages\\keras\\src\\engine\\training.py:3079: UserWarning: You are saving your model as an HDF5 file via `model.save()`. This file format is considered legacy. We recommend using instead the native Keras format, e.g. `model.save('my_model.keras')`.\n",
      "  saving_api.save_model(\n"
     ]
    }
   ],
   "source": [
    "model.save(\"./training/TSR.h5\")"
   ]
  },
  {
   "cell_type": "markdown",
   "id": "159486e3",
   "metadata": {},
   "source": [
    "# Load the Model"
   ]
  },
  {
   "cell_type": "code",
   "execution_count": 33,
   "id": "fc0053be",
   "metadata": {},
   "outputs": [],
   "source": [
    "import os\n",
    "os.chdir(r'C:\\Users\\sahil\\Desktop\\Road sign recorginition\\dataset\\traffic sign')\n",
    "from keras.models import load_model\n",
    "model = load_model('./training/TSR.h5')"
   ]
  },
  {
   "cell_type": "code",
   "execution_count": 34,
   "id": "01a961c3",
   "metadata": {},
   "outputs": [],
   "source": [
    "# Classes of trafic signs\n",
    "classes = { 0:'Speed limit (20km/h)',\n",
    "            1:'Speed limit (30km/h)', \n",
    "            2:'Speed limit (50km/h)', \n",
    "            3:'Speed limit (60km/h)', \n",
    "            4:'Speed limit (70km/h)', \n",
    "            5:'Speed limit (80km/h)', \n",
    "            6:'End of speed limit (80km/h)', \n",
    "            7:'Speed limit (100km/h)', \n",
    "            8:'Speed limit (120km/h)', \n",
    "            9:'No passing', \n",
    "            10:'No passing veh over 3.5 tons', \n",
    "            11:'Right-of-way at intersection', \n",
    "            12:'Priority road', \n",
    "            13:'Yield', \n",
    "            14:'Stop', \n",
    "            15:'No vehicles', \n",
    "            16:'Veh > 3.5 tons prohibited', \n",
    "            17:'No entry', \n",
    "            18:'General caution', \n",
    "            19:'Dangerous curve left', \n",
    "            20:'Dangerous curve right', \n",
    "            21:'Double curve', \n",
    "            22:'Bumpy road', \n",
    "            23:'Slippery road', \n",
    "            24:'Road narrows on the right', \n",
    "            25:'Road work', \n",
    "            26:'Traffic signals', \n",
    "            27:'Pedestrians', \n",
    "            28:'Children crossing', \n",
    "            29:'Bicycles crossing', \n",
    "            30:'Beware of ice/snow',\n",
    "            31:'Wild animals crossing', \n",
    "            32:'End speed + passing limits', \n",
    "            33:'Turn right ahead', \n",
    "            34:'Turn left ahead', \n",
    "            35:'Ahead only', \n",
    "            36:'Go straight or right', \n",
    "            37:'Go straight or left', \n",
    "            38:'Keep right', \n",
    "            39:'Keep left', \n",
    "            40:'Roundabout mandatory', \n",
    "            41:'End of no passing', \n",
    "            42:'End no passing veh > 3.5 tons' }"
   ]
  },
  {
   "cell_type": "code",
   "execution_count": 35,
   "id": "d8f972aa",
   "metadata": {},
   "outputs": [],
   "source": [
    "from PIL import Image\n",
    "import numpy as np\n",
    "import matplotlib.pyplot as plt\n",
    "def test_on_img(img):\n",
    "    data=[]\n",
    "    image = Image.open(img)\n",
    "    image = image.resize((30,30))\n",
    "    data.append(np.array(image))\n",
    "    X_test=np.array(data)\n",
    "    Y_pred_probabilities = model.predict(X_test)\n",
    "    Y_pred = Y_pred_probabilities.argmax(axis=-1)\n",
    "    return image,Y_pred"
   ]
  },
  {
   "cell_type": "code",
   "execution_count": 39,
   "id": "9af906a4",
   "metadata": {},
   "outputs": [
    {
     "name": "stdout",
     "output_type": "stream",
     "text": [
      "1/1 [==============================] - 0s 32ms/step\n",
      "Predicted traffic sign is:  No passing\n"
     ]
    },
    {
     "data": {
      "image/png": "[encoded data removed]",
      "text/plain": [
       "<Figure size 640x480 with 1 Axes>"
      ]
     },
     "metadata": {},
     "output_type": "display_data"
    }
   ],
   "source": [
    "plot,prediction = test_on_img(r'C:\\Users\\sahil\\Desktop\\Road sign recorginition\\dataset\\traffic sign\\Test\\01197.png')\n",
    "s = [str(i) for i in prediction] \n",
    "a = int(\"\".join(s))\n",
    "print(\"Predicted traffic sign is: \", classes[a])\n",
    "plt.imshow(plot)\n",
    "plt.show()"
   ]
  },
  {
   "cell_type": "code",
   "execution_count": null,
   "id": "04415e7f",
   "metadata": {},
   "outputs": [],
   "source": []
  }
 ],
 "metadata": {
  "kernelspec": {
   "display_name": "Python 3 (ipykernel)",
   "language": "python",
   "name": "python3"
  },
  "language_info": {
   "codemirror_mode": {
    "name": "ipython",
    "version": 3
   },
   "file_extension": ".py",
   "mimetype": "text/x-python",
   "name": "python",
   "nbconvert_exporter": "python",
   "pygments_lexer": "ipython3",
   "version": "3.11.5"
  }
 },
 "nbformat": 4,
 "nbformat_minor": 5
}
